{
 "cells": [
  {
   "cell_type": "code",
   "execution_count": 17,
   "metadata": {
    "attributes": {
     "classes": [],
     "id": "",
     "n": "114"
    }
   },
   "outputs": [
    {
     "data": {
      "text/html": [
       "<!DOCTYPE html>\n",
       "<html>\n",
       "<head>\n",
       "<script src='head.js'></script>\n",
       "</head>\n",
       "<body>\n",
       "<div>\n",
       "<input type=\"button\" value=\"exec\" onclick='exec()'></input>\n",
       "<input type=\"button\" value=\"hook\" onclick='hook(0)'></input>\n",
       "</div>\n",
       "<iframe width=400 height=400 id='fence' onload='loaded()' frameborder=\"0\" style='float:left;' srcdoc=\"\n",
       "<!DOCTYPE html>\n",
       "<html>\n",
       "<head>\n",
       "  <meta name='viewport' content='width=device-width, initial-scale=1.0, maximum-scale=1.0, user-scalable=no' />\n",
       "  <meta name='theme-color' content='#efefef'>\n",
       "  <link rel='shortcut icon' type='image/x-icon' href='./drawfavicon.ico'>\n",
       "  <title>Draw</title>\n",
       "  <style>\n",
       "    body {\n",
       "      background-color: #efefef;\n",
       "      text-align:left;\n",
       "      margin: 0;\n",
       "      margin-top: 0px;\n",
       "      margin-left: 0px;\n",
       "      overflow: hidden;\n",
       "    }\n",
       "    #board {\n",
       "      touch-action: none;\n",
       "      border: 0px solid rgba(0,0,0,0.1);\n",
       "      box-shadow: 0px 0px 0px 0px rgba(0,0,0,0.1);\n",
       "      cursor: crosshair;\n",
       "    }\n",
       "\n",
       "    #floatingButton {\n",
       "      background: #97a5a8;\n",
       "      box-shadow: 1px 1px 2px 1px rgba(0,0,0,0.2);\n",
       "      transition: transform 0.1s, opacity 1s;\n",
       "      cursor: pointer;\n",
       "    }\n",
       "    #floatingButton:active {\n",
       "      transform: scale(0.9, 0.9);\n",
       "    }\n",
       "\n",
       "  </style>\n",
       "</head>\n",
       "\n",
       "<body>\n",
       "  <canvas touch-action='none' id='board' width='640' height='640' style='width:320px; height:320px;'>\n",
       "    Opps, you cannot play draw N guess with this browser!\n",
       "  </canvas>\n",
       "\n",
       "  <script src='https://cdn.jsdelivr.net/lodash/4.17.2/lodash.min.js'></script>\n",
       "  <script src='./draw/js/vendors/pep.js'></script>\n",
       "  <script src='./draw/js/libs/Board.js'></script>\n",
       "  <script src='./draw/js/libs/Pointer.js'></script>\n",
       "  <script src='./draw/js/libs/Pen.js'></script>\n",
       "  <script src='./draw/js/libs/FloatingButton.js'></script>\n",
       "  <script src='./draw/js/main.js'></script>\n",
       "</body>\n",
       "</html>\n",
       "\"></iframe>\n",
       "<canvas width=400 height=400 id='result' style='position:relative;top:0px;left:10px;background-color:white;'></canvas>\n",
       "</body>\n",
       "</html>\n",
       "</html>\n"
      ],
      "text/plain": [
       "<IPython.core.display.HTML object>"
      ]
     },
     "execution_count": 17,
     "metadata": {},
     "output_type": "execute_result"
    }
   ],
   "source": [
    "def generate(x):\n",
    "    return x\n",
    "    \n",
    "from IPython.display import HTML\n",
    "HTML(\"./main.html\")\n",
    "#kernel.execute(command, {'iopub': {\"output\": callback}}, {silent:false});"
   ]
  },
  {
   "cell_type": "code",
   "execution_count": 5,
   "metadata": {},
   "outputs": [
    {
     "ename": "NameError",
     "evalue": "name 'out' is not defined",
     "output_type": "error",
     "traceback": [
      "\u001b[0;31m---------------------------------------------------------------------------\u001b[0m",
      "\u001b[0;31mNameError\u001b[0m                                 Traceback (most recent call last)",
      "\u001b[0;32m<ipython-input-5-9bc27bdc8279>\u001b[0m in \u001b[0;36m<module>\u001b[0;34m\u001b[0m\n\u001b[0;32m----> 1\u001b[0;31m \u001b[0mout\u001b[0m\u001b[0;34m\u001b[0m\u001b[0;34m\u001b[0m\u001b[0m\n\u001b[0m",
      "\u001b[0;31mNameError\u001b[0m: name 'out' is not defined"
     ]
    }
   ],
   "source": [
    "out"
   ]
  },
  {
   "cell_type": "code",
   "execution_count": null,
   "metadata": {},
   "outputs": [],
   "source": []
  }
 ],
 "metadata": {
  "kernelspec": {
   "display_name": "Python 3",
   "language": "python",
   "name": "python3"
  },
  "language_info": {
   "codemirror_mode": {
    "name": "ipython",
    "version": 3
   },
   "file_extension": ".py",
   "mimetype": "text/x-python",
   "name": "python",
   "nbconvert_exporter": "python",
   "pygments_lexer": "ipython3",
   "version": "3.6.8"
  }
 },
 "nbformat": 4,
 "nbformat_minor": 2
}
