{
 "cells": [
  {
   "cell_type": "code",
   "execution_count": 147,
   "metadata": {
    "attributes": {
     "classes": [],
     "id": "",
     "n": "147"
    }
   },
   "outputs": [],
   "source": [
    "import numpy as np\n",
    "import base64\n",
    "from PIL import Image\n",
    "from io import BytesIO\n",
    "\n",
    "def generate(src):\n",
    "    globals()[\"src\"] = src\n",
    "    arr = np.array(Image.open(BytesIO(base64.b64decode(src.split(\",\")[-1]))))\n",
    "    arr = 255 - arr[:,:,:3]\n",
    "    byte_io = BytesIO()\n",
    "    Image.fromarray(arr).save(byte_io, 'PNG')\n",
    "    txt = b'data:image/png;base64,'+base64.b64encode(byte_io.getvalue())\n",
    "    return txt\n",
    "\n",
    "from IPython.display import HTML\n",
    "HTML(\"./main.html\")"
   ]
  },
  {
   "cell_type": "code",
   "execution_count": 110,
   "metadata": {
    "attributes": {
     "classes": [],
     "id": "",
     "n": "110"
    }
   },
   "outputs": [],
   "source": [
    "%matplotlib inline\n",
    "import matplotlib.pyplot as plt\n",
    "plt.imshow(arr)"
   ]
  }
 ],
 "metadata": {},
 "nbformat": 4,
 "nbformat_minor": 2
}
