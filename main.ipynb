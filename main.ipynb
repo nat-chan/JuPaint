{
 "cells": [
  {
   "cell_type": "code",
   "execution_count": 58,
   "metadata": {
    "attributes": {
     "classes": [],
     "id": "",
     "n": "58"
    }
   },
   "outputs": [],
   "source": [
    "def generate(src):\n",
    "    return src\n",
    "\n",
    "from IPython.display import HTML\n",
    "HTML(\"./main.html\")"
   ]
  }
 ],
 "metadata": {},
 "nbformat": 4,
 "nbformat_minor": 2
}
