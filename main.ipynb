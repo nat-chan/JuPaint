{
 "cells": [
  {
   "cell_type": "code",
   "execution_count": null,
   "metadata": {
    "attributes": {
     "classes": [],
     "id": "",
     "n": "10"
    }
   },
   "outputs": [],
   "source": [
    "import os\n",
    "if os.path.exists(\"./SPADE\"): os.chdir(\"./SPADE\")\n",
    "    \n",
    "import pickle\n",
    "from models.pix2pix_model import Pix2PixModel\n",
    "from options.test_options import TestOptions\n",
    "import numpy as np\n",
    "import IPython.display\n",
    "\n",
    "import argparse\n",
    "_ = argparse.ArgumentParser.parse_args\n",
    "argparse.ArgumentParser.parse_args = lambda self,*args,**kwargs: _(self, args=['--name', 'coco_pretrained', '--dataset_mode', 'coco', '--dataroot', './datasets/coco_stuff'])\n",
    "\n",
    "opt = TestOptions().parse();\n",
    "model = Pix2PixModel(opt);\n",
    "model.eval();\n",
    "\n",
    "N=182\n",
    "import base64\n",
    "from PIL import Image\n",
    "from io import BytesIO\n",
    "import torch\n",
    "import util.util\n",
    "c = util.util.Colorize(N)\n",
    "c = c.cmap.numpy()\n",
    "\n",
    "def generate(src):\n",
    "    arr = np.array(Image.open(BytesIO(base64.b64decode(src.split(\",\")[-1]))).resize((256,256)))[:,:,:3]\n",
    "    globals()[\"arr\"] = 1\n",
    "    arr2 = np.linalg.norm((c.reshape(N,1,1,3).repeat(256,axis=1).repeat(256,axis=2) - arr),axis=3).argmin(axis=0).reshape(1,1,256,256)\n",
    "    arr3 = torch.cuda.FloatTensor(1,184,256,256).zero_().scatter_(1,torch.from_numpy(arr2).cuda(),1.0)\n",
    "    arr4 = util.util.tensor2im(model.netG(arr3)).reshape(256,256,3)\n",
    "    globals()[\"arr4\"] = arr4\n",
    "    byte_io = BytesIO()\n",
    "    Image.fromarray(arr4).save(byte_io, 'PNG')\n",
    "    dst = b'data:image/png;base64,'+base64.b64encode(byte_io.getvalue())\n",
    "    return dst\n",
    "\n",
    "IPython.display.clear_output()\n",
    "IPython.display.HTML(\"../main.html\")\n"
   ]
  },
  {
   "cell_type": "code",
   "execution_count": null,
   "metadata": {
    "attributes": {
     "classes": [],
     "id": "",
     "n": "11"
    }
   },
   "outputs": [],
   "source": [
    "# show model parameter\n",
    "print(model)"
   ]
  }
 ],
 "metadata": {
  "kernelspec": {
   "display_name": "Python 3",
   "language": "python",
   "name": "python3"
  },
  "language_info": {
   "codemirror_mode": {
    "name": "ipython",
    "version": 3
   },
   "file_extension": ".py",
   "mimetype": "text/x-python",
   "name": "python",
   "nbconvert_exporter": "python",
   "pygments_lexer": "ipython3",
   "version": "3.6.8"
  }
 },
 "nbformat": 4,
 "nbformat_minor": 2
}
